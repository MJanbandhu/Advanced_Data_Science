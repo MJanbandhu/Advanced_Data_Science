{
  "cells": [
    {
      "cell_type": "markdown",
      "metadata": {
        "id": "view-in-github",
        "colab_type": "text"
      },
      "source": [
        "<a href=\"https://colab.research.google.com/github/MJanbandhu/Advanced_Data_Science/blob/main/A_Sentimental_Dive_into_Movie_Reviews.ipynb\" target=\"_parent\"><img src=\"https://colab.research.google.com/assets/colab-badge.svg\" alt=\"Open In Colab\"/></a>"
      ]
    },
    {
      "cell_type": "code",
      "execution_count": null,
      "id": "00346e72",
      "metadata": {
        "id": "00346e72"
      },
      "outputs": [],
      "source": [
        "#!pip install textblob==0.17.1"
      ]
    },
    {
      "cell_type": "code",
      "execution_count": null,
      "id": "f3cf8741",
      "metadata": {
        "id": "f3cf8741"
      },
      "outputs": [],
      "source": [
        "# check the sentiment of the given statement"
      ]
    },
    {
      "cell_type": "code",
      "execution_count": null,
      "id": "dadd2250",
      "metadata": {
        "id": "dadd2250"
      },
      "outputs": [],
      "source": [
        "# understand the sentiment of the given sentence using TextBlob\n",
        "text = \"The movie was too bad\"\n",
        "\n",
        "#import TextBlob package for performing Sentiment Analysis\n",
        "from textblob import TextBlob\n",
        "# provides text mining, text analysis and text processing modules\n",
        "\n",
        "\n",
        "# initialise it with an object\n",
        "analysis = TextBlob(text)\n",
        "\n",
        "# perform sentiment analysis\n",
        "print(analysis.sentiment.polarity)\n",
        "\n"
      ]
    },
    {
      "cell_type": "markdown",
      "id": "a2ed7750",
      "metadata": {
        "id": "a2ed7750"
      },
      "source": [
        "#### Polarity refers to sentiment expressed within the text.\n",
        "\n",
        "Polarity is often measured on a scale from -1 to 1, where:\n",
        "\n",
        "- Polarity close to 1 indicates positive sentiment.\n",
        "- Polarity close to -1 indicates negative sentiment.\n",
        "- Polarity around 0 indicates neutral sentiment."
      ]
    },
    {
      "cell_type": "code",
      "execution_count": null,
      "id": "a92734a3",
      "metadata": {
        "id": "a92734a3"
      },
      "outputs": [],
      "source": [
        "# get the sentiment\n",
        "if analysis.sentiment.polarity > 0:\n",
        "    print('Positive')\n",
        "elif analysis.sentiment.polarity <0:\n",
        "    print ('Negative')\n",
        "else:\n",
        "    print ('Neutral')"
      ]
    },
    {
      "cell_type": "markdown",
      "id": "09377f18",
      "metadata": {
        "id": "09377f18"
      },
      "source": [
        "### Sentiment Analysis on Movie Reviews"
      ]
    },
    {
      "cell_type": "code",
      "execution_count": null,
      "id": "b9026156",
      "metadata": {
        "id": "b9026156"
      },
      "outputs": [],
      "source": [
        "import random\n",
        "from textblob import TextBlob\n",
        "from IPython.display import clear_output # Clear the output in Jupyter Notebook\n",
        "from movie_reviews import reviews"
      ]
    },
    {
      "cell_type": "code",
      "execution_count": null,
      "id": "8e125f67",
      "metadata": {
        "id": "8e125f67"
      },
      "outputs": [],
      "source": [
        "# 'reviews' is a dictionary with movie names as 'keys' and their reviews as 'values'\n",
        "type(reviews)"
      ]
    },
    {
      "cell_type": "code",
      "execution_count": null,
      "id": "c6cebb67",
      "metadata": {
        "id": "c6cebb67"
      },
      "outputs": [],
      "source": [
        "# total no. of movies\n",
        "len(reviews)"
      ]
    },
    {
      "cell_type": "code",
      "execution_count": null,
      "id": "9adcd000",
      "metadata": {
        "id": "9adcd000"
      },
      "outputs": [],
      "source": [
        "# name of the movies\n",
        "reviews.keys()\n",
        "\n",
        "# for all these movies, we have different reviews on which we are going to perform sentiment analysis"
      ]
    },
    {
      "cell_type": "code",
      "execution_count": null,
      "id": "6e658e93",
      "metadata": {
        "id": "6e658e93"
      },
      "outputs": [],
      "source": [
        "# the number of reviews we have for each movie:\n",
        "for key, value in reviews.items():\n",
        "    print(f\"No. of reviews for '{key}': {len(value)}\")"
      ]
    },
    {
      "cell_type": "code",
      "execution_count": null,
      "id": "431d6647",
      "metadata": {
        "id": "431d6647"
      },
      "outputs": [],
      "source": [
        "# Third review of first movie\n",
        "list(reviews.items())[0][1][2]"
      ]
    },
    {
      "cell_type": "markdown",
      "id": "c0e55858",
      "metadata": {
        "id": "c0e55858"
      },
      "source": [
        "### Perform sentiment analysis"
      ]
    },
    {
      "cell_type": "code",
      "execution_count": null,
      "id": "653a64ce",
      "metadata": {
        "id": "653a64ce"
      },
      "outputs": [],
      "source": [
        "def get_sentiment(rev):\n",
        "    \"\"\"Function which return the sentiment of the passed review as positive, negative or Neutral\"\"\"\n",
        "    analysis = TextBlob(rev)\n",
        "    if analysis.sentiment.polarity > 0:\n",
        "        return 'positive'\n",
        "    elif analysis.sentiment.polarity <0:\n",
        "        return 'negative'\n",
        "    else:\n",
        "        return 'neutral'"
      ]
    },
    {
      "cell_type": "code",
      "execution_count": null,
      "id": "0ca73265",
      "metadata": {
        "id": "0ca73265"
      },
      "outputs": [],
      "source": [
        "def get_reviews(num_of_review,movie_name):\n",
        "    \"\"\"Processing of the review and returns a list, that consist of multiple dictionary with their respective text & sentiment\"\"\"\n",
        "\n",
        "    # Selection of Random reviews\n",
        "    selected_reviews = [random.choice(reviews[movie_name]) for _ in range(num_of_review)] # list of randomly selected reviews\n",
        "\n",
        "    # view first 2 reviews\n",
        "    print(\"First two reviews of the movie: \\n\")\n",
        "    print(selected_reviews[0],\"\\n\")\n",
        "    print(selected_reviews[1],\"\\n\")\n",
        "\n",
        "\n",
        "    final_processed_review = []\n",
        "    for inner_list in selected_reviews:\n",
        "        # Empty dictionary to store  the text of the review and its corresponding sentiment.\n",
        "        parsed_review = {}\n",
        "        # saving text of the reviews\n",
        "        parsed_review['text'] = inner_list[0]\n",
        "        # saving sentiment of the reviews by passing the review to get_sentiment function\n",
        "        parsed_review['sentiment'] = get_sentiment(inner_list[0])\n",
        "        final_processed_review.append(parsed_review)\n",
        "    return final_processed_review\n",
        "\n",
        "# It returns a list of dictionaries, where each dictionary represents\n",
        "# a processed review with its text and sentiment."
      ]
    },
    {
      "cell_type": "code",
      "execution_count": null,
      "id": "72bd4a96",
      "metadata": {
        "id": "72bd4a96"
      },
      "outputs": [],
      "source": [
        "get_reviews(4,'Joker')"
      ]
    },
    {
      "cell_type": "code",
      "execution_count": null,
      "id": "6ee59598",
      "metadata": {
        "id": "6ee59598"
      },
      "outputs": [],
      "source": [
        "def analyze():\n",
        "    print(list(reviews.keys())) # the movie names\n",
        "    movie_name = input(\"Select a movie you want to analyze: \")\n",
        "    if movie_name in list(reviews.keys()):\n",
        "        num_of_review = int(input(\"Enter the number of reviews you want to analyze: \"))\n",
        "        clear_output()  # Clear the output in Jupyter Notebook\n",
        "        review = get_reviews(num_of_review,movie_name)\n",
        "        # Picking positive reviews\n",
        "        positive_reviews=[]\n",
        "        for item in review:\n",
        "            if item[\"sentiment\"] == \"positive\":\n",
        "                positive_reviews.append(item)\n",
        "        # Percentage of positive reviews\n",
        "        print(\"Positive reviews percentage: {} %\".format(100*len(positive_reviews)/(num_of_review)))\n",
        "        # Picking negative reviews\n",
        "        negative_reviews = [rev1 for rev1 in review if rev1[\"sentiment\"] == \"negative\"]\n",
        "        # Percentage of negative reviews\n",
        "        print(\"Negative reviews percentage: {} %\".format(100*len(negative_reviews)/(num_of_review)))\n",
        "        # Percentage of neutral reviews\n",
        "        print(\"Neutral reviews percentage: {} %\".format(100*((num_of_review) - len(negative_reviews) - len(positive_reviews))/(num_of_review)))\n",
        "    else:\n",
        "        return \"Movie not found in the list\""
      ]
    },
    {
      "cell_type": "code",
      "execution_count": null,
      "id": "907a922e",
      "metadata": {
        "id": "907a922e"
      },
      "outputs": [],
      "source": [
        "analyze()"
      ]
    },
    {
      "cell_type": "code",
      "execution_count": null,
      "id": "17d546ef",
      "metadata": {
        "id": "17d546ef"
      },
      "outputs": [],
      "source": []
    }
  ],
  "metadata": {
    "colab": {
      "provenance": [],
      "include_colab_link": true
    },
    "kernelspec": {
      "display_name": "Python 3 (ipykernel)",
      "language": "python",
      "name": "python3"
    },
    "language_info": {
      "codemirror_mode": {
        "name": "ipython",
        "version": 3
      },
      "file_extension": ".py",
      "mimetype": "text/x-python",
      "name": "python",
      "nbconvert_exporter": "python",
      "pygments_lexer": "ipython3",
      "version": "3.11.5"
    }
  },
  "nbformat": 4,
  "nbformat_minor": 5
}